{
  "nbformat": 4,
  "nbformat_minor": 0,
  "metadata": {
    "colab": {
      "name": "ISTLab1.ipynb",
      "provenance": [],
      "authorship_tag": "ABX9TyMP93E5wA5RCjo5WsCC9dKG",
      "include_colab_link": true
    },
    "kernelspec": {
      "name": "python3",
      "display_name": "Python 3"
    }
  },
  "cells": [
    {
      "cell_type": "markdown",
      "metadata": {
        "id": "view-in-github",
        "colab_type": "text"
      },
      "source": [
        "<a href=\"https://colab.research.google.com/github/jmr7006/ISTCOURSE/blob/master/ISTLab1.ipynb\" target=\"_parent\"><img src=\"https://colab.research.google.com/assets/colab-badge.svg\" alt=\"Open In Colab\"/></a>"
      ]
    },
    {
      "cell_type": "code",
      "metadata": {
        "id": "2eL_LB9Z-FjF",
        "colab_type": "code",
        "colab": {}
      },
      "source": [
        ""
      ],
      "execution_count": null,
      "outputs": []
    },
    {
      "cell_type": "markdown",
      "metadata": {
        "id": "jF97tcSg-kax",
        "colab_type": "text"
      },
      "source": [
        "## 1. Do you like using Jupyter Notebooks?"
      ]
    },
    {
      "cell_type": "markdown",
      "metadata": {
        "id": "jBK8-4o3-qKZ",
        "colab_type": "text"
      },
      "source": [
        "I am still very unfamiliar with Jupyter Notebooks. I am assuming by phrasing of this question, that it means I am going to become more familiar with it. However, I still have not used Jupyter Notebooks very much before."
      ]
    },
    {
      "cell_type": "markdown",
      "metadata": {
        "id": "mErfnsl9_axS",
        "colab_type": "text"
      },
      "source": [
        "## 2. What do you want to learn more about in Jupyter Notebooks?"
      ]
    },
    {
      "cell_type": "markdown",
      "metadata": {
        "id": "IRKOB4gGCiOK",
        "colab_type": "text"
      },
      "source": [
        "First I would like to understand the how the application works. After researching a bit, I would also like to understand how easily the application shares documents/code across the many programming languages it allows."
      ]
    },
    {
      "cell_type": "markdown",
      "metadata": {
        "id": "qpcUKIztDxpq",
        "colab_type": "text"
      },
      "source": [
        "![Picture](https://raw.githubusercontent.com/jmr7006/ISTCOURSE/master/Images/Didi.webp)"
      ]
    }
  ]
}