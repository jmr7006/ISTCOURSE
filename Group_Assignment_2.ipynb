{
  "nbformat": 4,
  "nbformat_minor": 0,
  "metadata": {
    "colab": {
      "name": "Group Assignment 2.ipynb",
      "provenance": [],
      "authorship_tag": "ABX9TyMUb9Pau/X8G6dKSv1VRXCu",
      "include_colab_link": true
    },
    "kernelspec": {
      "name": "python3",
      "display_name": "Python 3"
    }
  },
  "cells": [
    {
      "cell_type": "markdown",
      "metadata": {
        "id": "view-in-github",
        "colab_type": "text"
      },
      "source": [
        "<a href=\"https://colab.research.google.com/github/jmr7006/ISTCOURSE/blob/master/Group_Assignment_2.ipynb\" target=\"_parent\"><img src=\"https://colab.research.google.com/assets/colab-badge.svg\" alt=\"Open In Colab\"/></a>"
      ]
    },
    {
      "cell_type": "code",
      "metadata": {
        "id": "xNGp9w7jXp8A"
      },
      "source": [
        ""
      ],
      "execution_count": null,
      "outputs": []
    },
    {
      "cell_type": "markdown",
      "metadata": {
        "id": "J9lW18fpjzOj"
      },
      "source": [
        "Jared Raggi"
      ]
    },
    {
      "cell_type": "markdown",
      "metadata": {
        "id": "qb-3vi50Xusc"
      },
      "source": [
        "I was planning on doing this assignment with the partners I had completed it with for the previous group assignment. However, things didn't work out that way, and I had to complete it on my own. Thankfully, I reached out to Zach, who had already finished the assignment and he gave me some pointers on how I should approach this assignment. For the project itself, I added in a transaction table to help better seperate the rentals from the users' action. I believe this helps improve the connection of the whole table. Two major pieces that were added to this assignment from the last were cardinality and foreign keys. The foreign keys explain themself, as the main reason for a transaction table was because of this. For cardinality, I believe the one-to-one relationship between User and Transaction was ideal because a rental transaction must occur for the user to be officially in the database, and there can only be one overall transaction (albeit with multiple items) between the user at a time. Then, the cardinality between the transaction and each individual item is zero-to-many, because a person can decide just to rent a book, which would still count as a transaction without the other three items. I almost made a subtle difference in limits depending on the item, with books being the most rented at a time, and newspapers being the least. Reading the overall diagram through the verbiage would start with completing a transaction, that ultimately depended on which items were rented in the transaction. "
      ]
    },
    {
      "cell_type": "markdown",
      "metadata": {
        "id": "hG-822safw35"
      },
      "source": [
        "![ER Diagram of Rental Service Company](https://nbviewer.jupyter.org/github/jmr7006/ISTCOURSE/blob/master/Group%20Assignment%202.png)"
      ]
    }
  ]
}