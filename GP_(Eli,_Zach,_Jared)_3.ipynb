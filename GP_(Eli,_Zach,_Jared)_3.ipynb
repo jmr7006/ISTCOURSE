{
  "nbformat": 4,
  "nbformat_minor": 0,
  "metadata": {
    "colab": {
      "name": "GP (Eli, Zach, Jared)_3.ipynb",
      "provenance": [],
      "collapsed_sections": [],
      "toc_visible": true,
      "include_colab_link": true
    },
    "kernelspec": {
      "name": "python3",
      "display_name": "Python 3"
    }
  },
  "cells": [
    {
      "cell_type": "markdown",
      "metadata": {
        "id": "view-in-github",
        "colab_type": "text"
      },
      "source": [
        "<a href=\"https://colab.research.google.com/github/jmr7006/ISTCOURSE/blob/master/GP_(Eli%2C_Zach%2C_Jared)_3.ipynb\" target=\"_parent\"><img src=\"https://colab.research.google.com/assets/colab-badge.svg\" alt=\"Open In Colab\"/></a>"
      ]
    },
    {
      "cell_type": "markdown",
      "metadata": {
        "id": "CAs7nuxSUtx9"
      },
      "source": [
        "#  ORIGINAL ER Diagram"
      ]
    },
    {
      "cell_type": "code",
      "metadata": {
        "id": "nW8hPm-rO0GH",
        "colab": {
          "base_uri": "https://localhost:8080/"
        },
        "outputId": "cb1a969c-d3d8-420b-acf7-c58ace07ab34"
      },
      "source": [
        "![ER diagram of media rental sevice](https://nbviewer.jupyter.org/github/zje5027/Group_Lab_2/blob/main/Group%20Lab%202.png)"
      ],
      "execution_count": null,
      "outputs": [
        {
          "output_type": "stream",
          "text": [
            "/bin/bash: -c: line 0: syntax error near unexpected token `('\n",
            "/bin/bash: -c: line 0: `[ER diagram of media rental sevice](https://nbviewer.jupyter.org/github/zje5027/Group_Lab_2/blob/main/Group%20Lab%202.png)'\n"
          ],
          "name": "stdout"
        }
      ]
    },
    {
      "cell_type": "markdown",
      "metadata": {
        "id": "wxhFys43P08J"
      },
      "source": [
        "![ER diagram of media rental sevice](https://nbviewer.jupyter.org/github/zje5027/Group_Lab_2/blob/main/Group%20Lab%202.png)"
      ]
    },
    {
      "cell_type": "markdown",
      "metadata": {
        "id": "yFwYhkRgHM4C"
      },
      "source": [
        "# UPDATED ER Diagram"
      ]
    },
    {
      "cell_type": "code",
      "metadata": {
        "colab": {
          "base_uri": "https://localhost:8080/"
        },
        "id": "nVk6VU4FAvly",
        "outputId": "f20bde46-35f3-4279-c70a-136df105d0ae"
      },
      "source": [
        "![Updates](https://raw.githubusercontent.com/zje5027/First-Google-NoteBook/master/Group%2520Lab%25202.png)"
      ],
      "execution_count": null,
      "outputs": [
        {
          "output_type": "stream",
          "text": [
            "/bin/bash: -c: line 0: syntax error near unexpected token `https://raw.githubusercontent.com/zje5027/First-Google-NoteBook/master/Group%2520Lab%25202.png'\n",
            "/bin/bash: -c: line 0: `[Updates](https://raw.githubusercontent.com/zje5027/First-Google-NoteBook/master/Group%2520Lab%25202.png)'\n"
          ],
          "name": "stdout"
        }
      ]
    },
    {
      "cell_type": "markdown",
      "metadata": {
        "id": "V5ZMWUbuRtj2"
      },
      "source": [
        "# Define SQL"
      ]
    },
    {
      "cell_type": "code",
      "metadata": {
        "id": "Vjy5cC0CR4cf",
        "colab": {
          "base_uri": "https://localhost:8080/",
          "height": 70
        },
        "outputId": "a6a04530-d1bc-4664-8e01-372847463058"
      },
      "source": [
        "%load_ext sql\n",
        "%sql sqlite:///libraryDatabase.db"
      ],
      "execution_count": null,
      "outputs": [
        {
          "output_type": "stream",
          "text": [
            "The sql extension is already loaded. To reload it, use:\n",
            "  %reload_ext sql\n"
          ],
          "name": "stdout"
        },
        {
          "output_type": "execute_result",
          "data": {
            "application/vnd.google.colaboratory.intrinsic+json": {
              "type": "string"
            },
            "text/plain": [
              "'Connected: @libraryDatabase.db'"
            ]
          },
          "metadata": {
            "tags": []
          },
          "execution_count": 125
        }
      ]
    },
    {
      "cell_type": "markdown",
      "metadata": {
        "id": "fTgfU3tJTAaK"
      },
      "source": [
        "# Create Tables"
      ]
    },
    {
      "cell_type": "code",
      "metadata": {
        "id": "0oQGQU6qTL-7",
        "colab": {
          "base_uri": "https://localhost:8080/"
        },
        "outputId": "c364fa6a-dde4-4f80-a708-2ead7640d732"
      },
      "source": [
        "%%sql  \n",
        "DROP TABLE IF EXISTS Books;\n",
        "create table Books (BOOK_ID_NUMBER text PRIMARY KEY, Author text, Publisher real, Genre text);\n",
        "\n",
        "DROP table IF EXISTS Transactions;\n",
        "create table Transactions (transactionID text PRIMARY KEY, RentalType text, DateTime text);"
      ],
      "execution_count": null,
      "outputs": [
        {
          "output_type": "stream",
          "text": [
            " * sqlite:///libraryDatabase.db\n",
            "Done.\n",
            "Done.\n",
            "Done.\n",
            "Done.\n"
          ],
          "name": "stdout"
        },
        {
          "output_type": "execute_result",
          "data": {
            "text/plain": [
              "[]"
            ]
          },
          "metadata": {
            "tags": []
          },
          "execution_count": 126
        }
      ]
    },
    {
      "cell_type": "code",
      "metadata": {
        "colab": {
          "base_uri": "https://localhost:8080/"
        },
        "id": "p0DgbiaIKQDZ",
        "outputId": "ff5dc6c1-31a0-488a-f657-c8fb65fbcf3e"
      },
      "source": [
        "%%sql\n",
        "DROP TABLE IF EXISTS Movies;\n",
        "create table Movies (Title text PRIMARY KEY, Director text, Actors text, Playtime real);\n",
        "\n",
        "DROP TABLE IF EXISTS Magazines;\n",
        "create table Magazines (Issue text PRIMARY KEY, Publisher text, Date text, Journalist real);\n",
        "\n",
        "DROP TABLE IF EXISTS Newspaper;\n",
        "create table Newspaper (UniqueID text PRIMARY KEY, Company Name text, Issue text, Stories real);\n",
        "\n"
      ],
      "execution_count": null,
      "outputs": [
        {
          "output_type": "stream",
          "text": [
            " * sqlite:///libraryDatabase.db\n",
            "Done.\n",
            "Done.\n",
            "Done.\n",
            "Done.\n",
            "Done.\n",
            "Done.\n"
          ],
          "name": "stdout"
        },
        {
          "output_type": "execute_result",
          "data": {
            "text/plain": [
              "[]"
            ]
          },
          "metadata": {
            "tags": []
          },
          "execution_count": 127
        }
      ]
    },
    {
      "cell_type": "markdown",
      "metadata": {
        "id": "asdAEc9c_ri1"
      },
      "source": [
        "# Insert Data"
      ]
    },
    {
      "cell_type": "code",
      "metadata": {
        "id": "cpBJkVASQrhw",
        "colab": {
          "base_uri": "https://localhost:8080/"
        },
        "outputId": "72dab145-6cb0-481e-8449-3b4a46aa08fc"
      },
      "source": [
        "%%sql\n",
        "insert into Books values ('98723171', 'George R R Martin', 1, 'Fantasy');\n",
        "insert into Books values ('83231231', 'J K Rowling', 1, 'Fantasy');\n",
        "insert into Books values ('75351143', 'Ernest Hemingway', 1, 'Fiction');\n",
        "insert into Books values ('63532454', 'Mark Twain', 2, 'Non-Fiction');\n",
        "insert into Books values ('55234231', 'F Scott Fitzgerald', 3, 'Fiction');\n",
        "insert into Books values ('43423413', 'William Shakespeare', 4, 'Thriller');\n",
        "insert into Books values ('34242312', 'Charles Dickens', 5, 'Mystery');\n",
        "\n",
        "insert into Transactions values ('01', 'Book', '2020-11-14 19:12:54');\n",
        "insert into Transactions values ('02', 'Movie', '2020-11-15 12:12:12');\n",
        "insert into Transactions values ('03', 'Magazine', '2020-11-15 12:12:20');\n",
        "insert into Transactions values ('04', 'Newspaper', '2020-11-15 12:12:23');\n",
        "insert into Transactions values ('05', 'Book', '2019-11-15 19:34:23');\n",
        "insert into Transactions values ('06', 'Movie', '2019-11-15 19:34:25');\n",
        "insert into Transactions values ('07', 'Newspaper', '2019-11-15 19:34:30');\n",
        "insert into Transactions values ('08', 'Book', '2019-11-15 19:40:03');\n",
        "insert into Transactions values ('09', 'Movie', '2019-11-15 19:40:05');\n",
        "insert into Transactions values ('10', 'Movie', '2019-11-15 19:41:30');"
      ],
      "execution_count": null,
      "outputs": [
        {
          "output_type": "stream",
          "text": [
            " * sqlite:///libraryDatabase.db\n",
            "1 rows affected.\n",
            "1 rows affected.\n",
            "1 rows affected.\n",
            "1 rows affected.\n",
            "1 rows affected.\n",
            "1 rows affected.\n",
            "1 rows affected.\n",
            "1 rows affected.\n",
            "1 rows affected.\n",
            "1 rows affected.\n",
            "1 rows affected.\n",
            "1 rows affected.\n",
            "1 rows affected.\n",
            "1 rows affected.\n",
            "1 rows affected.\n",
            "1 rows affected.\n",
            "1 rows affected.\n"
          ],
          "name": "stdout"
        },
        {
          "output_type": "execute_result",
          "data": {
            "text/plain": [
              "[]"
            ]
          },
          "metadata": {
            "tags": []
          },
          "execution_count": 128
        }
      ]
    },
    {
      "cell_type": "code",
      "metadata": {
        "colab": {
          "base_uri": "https://localhost:8080/"
        },
        "id": "Ju3Ud0kqIC8V",
        "outputId": "a67c8925-f940-425c-b93b-edce3272ea9b"
      },
      "source": [
        "%%sql\n",
        "insert into Movies values ('The Matrix', 'Wachowski Sisters','Keanu Reeves', 120);\n",
        "insert into Movies values ('V for Vendetta', 'Wachowski Sisters', 'Hugo Weaving', 120);\n",
        "insert into Movies values ('2001 A Space Odyssey', 'Stanley Kubrick', 'Keir Dullea', 120 );\n",
        "insert into Movies values ('The Dark Knight', 'Christopher Nolan', 'Christian Bale', 120);\n",
        "insert into Movies values ('21 JumpStreet', 'Zach End', \"Joahna Hill\", 90 );\n",
        "insert into Movies values ('Spaceballs', 'Mel Gibson', 'Rick Moranis', 90 );\n",
        "insert into Movies values ('John Wick', 'David Leitch', 'Keanu Reeves', 90 );\n",
        "\n",
        "insert into Newspaper values ('The Matrix', 'Wachowski Sisters','Keanu Reeves', 120);\n",
        "insert into Newspaper values ('V for Vendetta', 'Wachowski Sisters', 'Hugo Weaving', 120);\n",
        "insert into Newspaper values ('2001 A Space Odyssey', 'Stanley Kubrick', 'Keir Dullea', 120 );\n",
        "insert into Newspaper values ('The Dark Knight', 'Christopher Nolan', 'Christian Bale', 120);\n",
        "insert into Newspaper values ('21 JumpStreet', 'Zach End', \"Joahna Hill\", 90 );\n",
        "insert into Newspaper values ('Spaceballs', 'Mel Gibson', 'Rick Moranis', 90 );\n",
        "insert into Newspaper values ('John Wick', 'David Leitch', 'Keanu Reeves', 90 );\n",
        "\n",
        "insert into Magazines values ('The Matrix', 'Wachowski Sisters','Keanu Reeves', 120);\n",
        "insert into Magazines values ('V for Vendetta', 'Wachowski Sisters', 'Hugo Weaving', 120);\n",
        "insert into Magazines values ('2001 A Space Odyssey', 'Stanley Kubrick', 'Keir Dullea', 120 );\n",
        "insert into Magazines values ('The Dark Knight', 'Christopher Nolan', 'Christian Bale', 120);\n",
        "insert into Magazines values ('21 JumpStreet', 'Zach End', \"Joahna Hill\", 90 );\n",
        "insert into Magazines values ('Spaceballs', 'Mel Gibson', 'Rick Moranis', 90 );\n",
        "insert into Magazines values ('John Wick', 'David Leitch', 'Keanu Reeves', 90 );\n",
        "\n",
        "\n"
      ],
      "execution_count": null,
      "outputs": [
        {
          "output_type": "stream",
          "text": [
            " * sqlite:///libraryDatabase.db\n",
            "1 rows affected.\n",
            "1 rows affected.\n",
            "1 rows affected.\n",
            "1 rows affected.\n",
            "1 rows affected.\n",
            "1 rows affected.\n",
            "1 rows affected.\n",
            "1 rows affected.\n",
            "1 rows affected.\n",
            "1 rows affected.\n",
            "1 rows affected.\n",
            "1 rows affected.\n",
            "1 rows affected.\n",
            "1 rows affected.\n",
            "1 rows affected.\n",
            "1 rows affected.\n",
            "1 rows affected.\n",
            "1 rows affected.\n",
            "1 rows affected.\n",
            "1 rows affected.\n",
            "1 rows affected.\n"
          ],
          "name": "stdout"
        },
        {
          "output_type": "execute_result",
          "data": {
            "text/plain": [
              "[]"
            ]
          },
          "metadata": {
            "tags": []
          },
          "execution_count": 129
        }
      ]
    },
    {
      "cell_type": "markdown",
      "metadata": {
        "id": "QUuGrrwnQqfw"
      },
      "source": [
        "# PrintOut_Test"
      ]
    },
    {
      "cell_type": "code",
      "metadata": {
        "id": "14OwmdnySw1I",
        "colab": {
          "base_uri": "https://localhost:8080/",
          "height": 220
        },
        "outputId": "9b96bb4a-c9b4-422f-ad3a-0dd24e2c2f80"
      },
      "source": [
        "%%sql\n",
        "\n",
        "select * from Books;"
      ],
      "execution_count": null,
      "outputs": [
        {
          "output_type": "stream",
          "text": [
            " * sqlite:///libraryDatabase.db\n",
            "Done.\n"
          ],
          "name": "stdout"
        },
        {
          "output_type": "execute_result",
          "data": {
            "text/html": [
              "<table>\n",
              "    <tr>\n",
              "        <th>BOOK_ID_NUMBER</th>\n",
              "        <th>Author</th>\n",
              "        <th>Publisher</th>\n",
              "        <th>Genre</th>\n",
              "    </tr>\n",
              "    <tr>\n",
              "        <td>98723171</td>\n",
              "        <td>George R R Martin</td>\n",
              "        <td>1.0</td>\n",
              "        <td>Fantasy</td>\n",
              "    </tr>\n",
              "    <tr>\n",
              "        <td>83231231</td>\n",
              "        <td>J K Rowling</td>\n",
              "        <td>1.0</td>\n",
              "        <td>Fantasy</td>\n",
              "    </tr>\n",
              "    <tr>\n",
              "        <td>75351143</td>\n",
              "        <td>Ernest Hemingway</td>\n",
              "        <td>1.0</td>\n",
              "        <td>Fiction</td>\n",
              "    </tr>\n",
              "    <tr>\n",
              "        <td>63532454</td>\n",
              "        <td>Mark Twain</td>\n",
              "        <td>2.0</td>\n",
              "        <td>Non-Fiction</td>\n",
              "    </tr>\n",
              "    <tr>\n",
              "        <td>55234231</td>\n",
              "        <td>F Scott Fitzgerald</td>\n",
              "        <td>3.0</td>\n",
              "        <td>Fiction</td>\n",
              "    </tr>\n",
              "    <tr>\n",
              "        <td>43423413</td>\n",
              "        <td>William Shakespeare</td>\n",
              "        <td>4.0</td>\n",
              "        <td>Thriller</td>\n",
              "    </tr>\n",
              "    <tr>\n",
              "        <td>34242312</td>\n",
              "        <td>Charles Dickens</td>\n",
              "        <td>5.0</td>\n",
              "        <td>Mystery</td>\n",
              "    </tr>\n",
              "</table>"
            ],
            "text/plain": [
              "[('98723171', 'George R R Martin', 1.0, 'Fantasy'),\n",
              " ('83231231', 'J K Rowling', 1.0, 'Fantasy'),\n",
              " ('75351143', 'Ernest Hemingway', 1.0, 'Fiction'),\n",
              " ('63532454', 'Mark Twain', 2.0, 'Non-Fiction'),\n",
              " ('55234231', 'F Scott Fitzgerald', 3.0, 'Fiction'),\n",
              " ('43423413', 'William Shakespeare', 4.0, 'Thriller'),\n",
              " ('34242312', 'Charles Dickens', 5.0, 'Mystery')]"
            ]
          },
          "metadata": {
            "tags": []
          },
          "execution_count": 130
        }
      ]
    },
    {
      "cell_type": "code",
      "metadata": {
        "colab": {
          "base_uri": "https://localhost:8080/",
          "height": 220
        },
        "id": "xEGyrOa6SlZM",
        "outputId": "90e6f505-c088-413d-8936-532c673c57f5"
      },
      "source": [
        "%%sql\n",
        "select * from Movies;"
      ],
      "execution_count": null,
      "outputs": [
        {
          "output_type": "stream",
          "text": [
            " * sqlite:///libraryDatabase.db\n",
            "Done.\n"
          ],
          "name": "stdout"
        },
        {
          "output_type": "execute_result",
          "data": {
            "text/html": [
              "<table>\n",
              "    <tr>\n",
              "        <th>Title</th>\n",
              "        <th>Director</th>\n",
              "        <th>Actors</th>\n",
              "        <th>Playtime</th>\n",
              "    </tr>\n",
              "    <tr>\n",
              "        <td>The Matrix</td>\n",
              "        <td>Wachowski Sisters</td>\n",
              "        <td>Keanu Reeves</td>\n",
              "        <td>120.0</td>\n",
              "    </tr>\n",
              "    <tr>\n",
              "        <td>V for Vendetta</td>\n",
              "        <td>Wachowski Sisters</td>\n",
              "        <td>Hugo Weaving</td>\n",
              "        <td>120.0</td>\n",
              "    </tr>\n",
              "    <tr>\n",
              "        <td>2001 A Space Odyssey</td>\n",
              "        <td>Stanley Kubrick</td>\n",
              "        <td>Keir Dullea</td>\n",
              "        <td>120.0</td>\n",
              "    </tr>\n",
              "    <tr>\n",
              "        <td>The Dark Knight</td>\n",
              "        <td>Christopher Nolan</td>\n",
              "        <td>Christian Bale</td>\n",
              "        <td>120.0</td>\n",
              "    </tr>\n",
              "    <tr>\n",
              "        <td>21 JumpStreet</td>\n",
              "        <td>Zach End</td>\n",
              "        <td>Joahna Hill</td>\n",
              "        <td>90.0</td>\n",
              "    </tr>\n",
              "    <tr>\n",
              "        <td>Spaceballs</td>\n",
              "        <td>Mel Gibson</td>\n",
              "        <td>Rick Moranis</td>\n",
              "        <td>90.0</td>\n",
              "    </tr>\n",
              "    <tr>\n",
              "        <td>John Wick</td>\n",
              "        <td>David Leitch</td>\n",
              "        <td>Keanu Reeves</td>\n",
              "        <td>90.0</td>\n",
              "    </tr>\n",
              "</table>"
            ],
            "text/plain": [
              "[('The Matrix', 'Wachowski Sisters', 'Keanu Reeves', 120.0),\n",
              " ('V for Vendetta', 'Wachowski Sisters', 'Hugo Weaving', 120.0),\n",
              " ('2001 A Space Odyssey', 'Stanley Kubrick', 'Keir Dullea', 120.0),\n",
              " ('The Dark Knight', 'Christopher Nolan', 'Christian Bale', 120.0),\n",
              " ('21 JumpStreet', 'Zach End', 'Joahna Hill', 90.0),\n",
              " ('Spaceballs', 'Mel Gibson', 'Rick Moranis', 90.0),\n",
              " ('John Wick', 'David Leitch', 'Keanu Reeves', 90.0)]"
            ]
          },
          "metadata": {
            "tags": []
          },
          "execution_count": 115
        }
      ]
    },
    {
      "cell_type": "code",
      "metadata": {
        "colab": {
          "base_uri": "https://localhost:8080/",
          "height": 283
        },
        "id": "gYBA5_edURS4",
        "outputId": "b5b46d3a-1f10-4904-82e0-6e287b952d88"
      },
      "source": [
        "%%sql\n",
        "\n",
        "select * from Transactions;"
      ],
      "execution_count": null,
      "outputs": [
        {
          "output_type": "stream",
          "text": [
            " * sqlite:///libraryDatabase.db\n",
            "Done.\n"
          ],
          "name": "stdout"
        },
        {
          "output_type": "execute_result",
          "data": {
            "text/html": [
              "<table>\n",
              "    <tr>\n",
              "        <th>transactionID</th>\n",
              "        <th>RentalType</th>\n",
              "        <th>DateTime</th>\n",
              "    </tr>\n",
              "    <tr>\n",
              "        <td>01</td>\n",
              "        <td>Book</td>\n",
              "        <td>2020-11-14 19:12:54</td>\n",
              "    </tr>\n",
              "    <tr>\n",
              "        <td>02</td>\n",
              "        <td>Movie</td>\n",
              "        <td>2020-11-15 12:12:12</td>\n",
              "    </tr>\n",
              "    <tr>\n",
              "        <td>03</td>\n",
              "        <td>Magazine</td>\n",
              "        <td>2020-11-15 12:12:20</td>\n",
              "    </tr>\n",
              "    <tr>\n",
              "        <td>04</td>\n",
              "        <td>Newspaper</td>\n",
              "        <td>2020-11-15 12:12:23</td>\n",
              "    </tr>\n",
              "    <tr>\n",
              "        <td>05</td>\n",
              "        <td>Book</td>\n",
              "        <td>2019-11-15 19:34:23</td>\n",
              "    </tr>\n",
              "    <tr>\n",
              "        <td>06</td>\n",
              "        <td>Movie</td>\n",
              "        <td>2019-11-15 19:34:25</td>\n",
              "    </tr>\n",
              "    <tr>\n",
              "        <td>07</td>\n",
              "        <td>Newspaper</td>\n",
              "        <td>2019-11-15 19:34:30</td>\n",
              "    </tr>\n",
              "    <tr>\n",
              "        <td>08</td>\n",
              "        <td>Book</td>\n",
              "        <td>2019-11-15 19:40:03</td>\n",
              "    </tr>\n",
              "    <tr>\n",
              "        <td>09</td>\n",
              "        <td>Movie</td>\n",
              "        <td>2019-11-15 19:40:05</td>\n",
              "    </tr>\n",
              "    <tr>\n",
              "        <td>10</td>\n",
              "        <td>Movie</td>\n",
              "        <td>2019-11-15 19:41:30</td>\n",
              "    </tr>\n",
              "</table>"
            ],
            "text/plain": [
              "[('01', 'Book', '2020-11-14 19:12:54'),\n",
              " ('02', 'Movie', '2020-11-15 12:12:12'),\n",
              " ('03', 'Magazine', '2020-11-15 12:12:20'),\n",
              " ('04', 'Newspaper', '2020-11-15 12:12:23'),\n",
              " ('05', 'Book', '2019-11-15 19:34:23'),\n",
              " ('06', 'Movie', '2019-11-15 19:34:25'),\n",
              " ('07', 'Newspaper', '2019-11-15 19:34:30'),\n",
              " ('08', 'Book', '2019-11-15 19:40:03'),\n",
              " ('09', 'Movie', '2019-11-15 19:40:05'),\n",
              " ('10', 'Movie', '2019-11-15 19:41:30')]"
            ]
          },
          "metadata": {
            "tags": []
          },
          "execution_count": 116
        }
      ]
    },
    {
      "cell_type": "code",
      "metadata": {
        "colab": {
          "base_uri": "https://localhost:8080/",
          "height": 212
        },
        "id": "43vT-sQc2ahf",
        "outputId": "4acd7679-3e6a-4b64-da53-9865b2d71bd7"
      },
      "source": [
        "%%sql\n",
        "\n",
        "select * from Magazines;"
      ],
      "execution_count": null,
      "outputs": [
        {
          "output_type": "stream",
          "text": [
            " * sqlite:///libraryDatabase.db\n",
            "Done.\n"
          ],
          "name": "stdout"
        },
        {
          "output_type": "execute_result",
          "data": {
            "text/html": [
              "<table>\n",
              "    <tr>\n",
              "        <th>Issue</th>\n",
              "        <th>Publisher</th>\n",
              "        <th>Date</th>\n",
              "        <th>Journalist</th>\n",
              "    </tr>\n",
              "    <tr>\n",
              "        <td>The Matrix</td>\n",
              "        <td>Wachowski Sisters</td>\n",
              "        <td>Keanu Reeves</td>\n",
              "        <td>120.0</td>\n",
              "    </tr>\n",
              "    <tr>\n",
              "        <td>V for Vendetta</td>\n",
              "        <td>Wachowski Sisters</td>\n",
              "        <td>Hugo Weaving</td>\n",
              "        <td>120.0</td>\n",
              "    </tr>\n",
              "    <tr>\n",
              "        <td>2001 A Space Odyssey</td>\n",
              "        <td>Stanley Kubrick</td>\n",
              "        <td>Keir Dullea</td>\n",
              "        <td>120.0</td>\n",
              "    </tr>\n",
              "    <tr>\n",
              "        <td>The Dark Knight</td>\n",
              "        <td>Christopher Nolan</td>\n",
              "        <td>Christian Bale</td>\n",
              "        <td>120.0</td>\n",
              "    </tr>\n",
              "    <tr>\n",
              "        <td>21 JumpStreet</td>\n",
              "        <td>Zach End</td>\n",
              "        <td>Joahna Hill</td>\n",
              "        <td>90.0</td>\n",
              "    </tr>\n",
              "    <tr>\n",
              "        <td>Spaceballs</td>\n",
              "        <td>Mel Gibson</td>\n",
              "        <td>Rick Moranis</td>\n",
              "        <td>90.0</td>\n",
              "    </tr>\n",
              "    <tr>\n",
              "        <td>John Wick</td>\n",
              "        <td>David Leitch</td>\n",
              "        <td>Keanu Reeves</td>\n",
              "        <td>90.0</td>\n",
              "    </tr>\n",
              "</table>"
            ],
            "text/plain": [
              "[('The Matrix', 'Wachowski Sisters', 'Keanu Reeves', 120.0),\n",
              " ('V for Vendetta', 'Wachowski Sisters', 'Hugo Weaving', 120.0),\n",
              " ('2001 A Space Odyssey', 'Stanley Kubrick', 'Keir Dullea', 120.0),\n",
              " ('The Dark Knight', 'Christopher Nolan', 'Christian Bale', 120.0),\n",
              " ('21 JumpStreet', 'Zach End', 'Joahna Hill', 90.0),\n",
              " ('Spaceballs', 'Mel Gibson', 'Rick Moranis', 90.0),\n",
              " ('John Wick', 'David Leitch', 'Keanu Reeves', 90.0)]"
            ]
          },
          "metadata": {
            "tags": []
          },
          "execution_count": 12
        }
      ]
    },
    {
      "cell_type": "code",
      "metadata": {
        "colab": {
          "base_uri": "https://localhost:8080/",
          "height": 212
        },
        "id": "fJUzTxLP2h2J",
        "outputId": "a273504e-f88b-448c-b45f-f09e51b0396b"
      },
      "source": [
        "%%sql \n",
        "select * from Newspaper;"
      ],
      "execution_count": null,
      "outputs": [
        {
          "output_type": "stream",
          "text": [
            " * sqlite:///libraryDatabase.db\n",
            "Done.\n"
          ],
          "name": "stdout"
        },
        {
          "output_type": "execute_result",
          "data": {
            "text/html": [
              "<table>\n",
              "    <tr>\n",
              "        <th>UniqueID</th>\n",
              "        <th>Company</th>\n",
              "        <th>Issue</th>\n",
              "        <th>Stories</th>\n",
              "    </tr>\n",
              "    <tr>\n",
              "        <td>The Matrix</td>\n",
              "        <td>Wachowski Sisters</td>\n",
              "        <td>Keanu Reeves</td>\n",
              "        <td>120.0</td>\n",
              "    </tr>\n",
              "    <tr>\n",
              "        <td>V for Vendetta</td>\n",
              "        <td>Wachowski Sisters</td>\n",
              "        <td>Hugo Weaving</td>\n",
              "        <td>120.0</td>\n",
              "    </tr>\n",
              "    <tr>\n",
              "        <td>2001 A Space Odyssey</td>\n",
              "        <td>Stanley Kubrick</td>\n",
              "        <td>Keir Dullea</td>\n",
              "        <td>120.0</td>\n",
              "    </tr>\n",
              "    <tr>\n",
              "        <td>The Dark Knight</td>\n",
              "        <td>Christopher Nolan</td>\n",
              "        <td>Christian Bale</td>\n",
              "        <td>120.0</td>\n",
              "    </tr>\n",
              "    <tr>\n",
              "        <td>21 JumpStreet</td>\n",
              "        <td>Zach End</td>\n",
              "        <td>Joahna Hill</td>\n",
              "        <td>90.0</td>\n",
              "    </tr>\n",
              "    <tr>\n",
              "        <td>Spaceballs</td>\n",
              "        <td>Mel Gibson</td>\n",
              "        <td>Rick Moranis</td>\n",
              "        <td>90.0</td>\n",
              "    </tr>\n",
              "    <tr>\n",
              "        <td>John Wick</td>\n",
              "        <td>David Leitch</td>\n",
              "        <td>Keanu Reeves</td>\n",
              "        <td>90.0</td>\n",
              "    </tr>\n",
              "</table>"
            ],
            "text/plain": [
              "[('The Matrix', 'Wachowski Sisters', 'Keanu Reeves', 120.0),\n",
              " ('V for Vendetta', 'Wachowski Sisters', 'Hugo Weaving', 120.0),\n",
              " ('2001 A Space Odyssey', 'Stanley Kubrick', 'Keir Dullea', 120.0),\n",
              " ('The Dark Knight', 'Christopher Nolan', 'Christian Bale', 120.0),\n",
              " ('21 JumpStreet', 'Zach End', 'Joahna Hill', 90.0),\n",
              " ('Spaceballs', 'Mel Gibson', 'Rick Moranis', 90.0),\n",
              " ('John Wick', 'David Leitch', 'Keanu Reeves', 90.0)]"
            ]
          },
          "metadata": {
            "tags": []
          },
          "execution_count": 13
        }
      ]
    },
    {
      "cell_type": "markdown",
      "metadata": {
        "id": "1ljDquVnU0Mw"
      },
      "source": [
        "# Questions"
      ]
    },
    {
      "cell_type": "markdown",
      "metadata": {
        "id": "10JeMEMAVDPj"
      },
      "source": [
        "How many authors have the letters 'e' and 's' next to each other?"
      ]
    },
    {
      "cell_type": "code",
      "metadata": {
        "colab": {
          "base_uri": "https://localhost:8080/",
          "height": 137
        },
        "id": "EjhiKj1GWIqj",
        "outputId": "8928ff0d-f852-462a-8609-63991c99e216"
      },
      "source": [
        "%%sql\n",
        "\n",
        "select Author from Books where Author like '%es%';"
      ],
      "execution_count": null,
      "outputs": [
        {
          "output_type": "stream",
          "text": [
            " * sqlite:///libraryDatabase.db\n",
            "Done.\n"
          ],
          "name": "stdout"
        },
        {
          "output_type": "execute_result",
          "data": {
            "text/html": [
              "<table>\n",
              "    <tr>\n",
              "        <th>Author</th>\n",
              "    </tr>\n",
              "    <tr>\n",
              "        <td>Ernest Hemingway</td>\n",
              "    </tr>\n",
              "    <tr>\n",
              "        <td>William Shakespeare</td>\n",
              "    </tr>\n",
              "    <tr>\n",
              "        <td>Charles Dickens</td>\n",
              "    </tr>\n",
              "</table>"
            ],
            "text/plain": [
              "[('Ernest Hemingway',), ('William Shakespeare',), ('Charles Dickens',)]"
            ]
          },
          "metadata": {
            "tags": []
          },
          "execution_count": 131
        }
      ]
    },
    {
      "cell_type": "markdown",
      "metadata": {
        "id": "kxiyBiFCXJ7Q"
      },
      "source": [
        "How many transactions were completed on the 15th of Novemebr in 2019?"
      ]
    },
    {
      "cell_type": "code",
      "metadata": {
        "colab": {
          "base_uri": "https://localhost:8080/",
          "height": 95
        },
        "id": "WR1BiOmGEnM8",
        "outputId": "bb4e4a44-3168-4a1b-b5bd-e520321365dd"
      },
      "source": [
        "%%sql\n",
        "\n",
        "select count(transactionID) from transactions where DateTime like '2019-11-15%';"
      ],
      "execution_count": null,
      "outputs": [
        {
          "output_type": "stream",
          "text": [
            " * sqlite:///libraryDatabase.db\n",
            "Done.\n"
          ],
          "name": "stdout"
        },
        {
          "output_type": "execute_result",
          "data": {
            "text/html": [
              "<table>\n",
              "    <tr>\n",
              "        <th>count(transactionID)</th>\n",
              "    </tr>\n",
              "    <tr>\n",
              "        <td>6</td>\n",
              "    </tr>\n",
              "</table>"
            ],
            "text/plain": [
              "[(6,)]"
            ]
          },
          "metadata": {
            "tags": []
          },
          "execution_count": 132
        }
      ]
    },
    {
      "cell_type": "markdown",
      "metadata": {
        "id": "PONxHqgQsU0d"
      },
      "source": [
        "What is the longest movie that can be rented that features Keanu Reeves as the main actor?\n",
        "\n",
        "\n",
        "\n"
      ]
    },
    {
      "cell_type": "code",
      "metadata": {
        "colab": {
          "base_uri": "https://localhost:8080/"
        },
        "id": "h92_-QKjspkM",
        "outputId": "bc77805e-9879-410a-ec97-0cb6e6e5c525"
      },
      "source": [
        "%%sql\n",
        "select Title from Movies WHERE Actors LIKE '%Keanu%' and select max(Playtime) from movies;"
      ],
      "execution_count": null,
      "outputs": [
        {
          "output_type": "stream",
          "text": [
            " * sqlite:///libraryDatabase.db\n",
            "(sqlite3.OperationalError) near \"select\": syntax error\n",
            "[SQL: select Title from Movies WHERE Actors LIKE '%Keanu%' and select max(Playtime) from movies;]\n",
            "(Background on this error at: http://sqlalche.me/e/13/e3q8)\n"
          ],
          "name": "stdout"
        }
      ]
    },
    {
      "cell_type": "markdown",
      "metadata": {
        "id": "Mtq-2Ia_HbQi"
      },
      "source": [
        ""
      ]
    },
    {
      "cell_type": "code",
      "metadata": {
        "id": "-mdyeAZMHa8b"
      },
      "source": [
        ""
      ],
      "execution_count": null,
      "outputs": []
    },
    {
      "cell_type": "markdown",
      "metadata": {
        "id": "rGSVBVqbLnKc"
      },
      "source": [
        "We as a group believe these questions were warranted because they are all different in the form of sql that is needed to be used. We believed it would be interesting to see these three questions answered through the database as well. Obviously, we are all still getting used to using SQL, but believe we did well on this project."
      ]
    }
  ]
}